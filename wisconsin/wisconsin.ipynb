{
 "cells": [
  {
   "cell_type": "code",
   "execution_count": null,
   "id": "75547d27",
   "metadata": {},
   "outputs": [],
   "source": [
    "import ee\n",
    "import geemap\n",
    "from PIL import Image\n",
    "from pathlib import Path"
   ]
  },
  {
   "cell_type": "code",
   "execution_count": null,
   "id": "cb6e3e2d",
   "metadata": {},
   "outputs": [],
   "source": [
    "# authenticate and initialize Earth Engine\n",
    "\n",
    "ee.Authenticate()\n",
    "ee.Initialize(project=\"gsapp-map\")\n",
    "\n",
    "dataset = ee.ImageCollection(\"GOOGLE/SATELLITE_EMBEDDING/V1/ANNUAL\")\n",
    "\n",
    "center = [-88.76878062783561, 44.29460729343232]\n",
    "point = ee.Geometry.Point(-88.76878062783561, 44.29460729343232)\n",
    "region = point.buffer(5000)\n",
    "image2024 = dataset.filterDate(\"2024-01-01\", \"2025-01-01\").filterBounds(region).mosaic()"
   ]
  },
  {
   "cell_type": "code",
   "execution_count": null,
   "id": "f36918bd",
   "metadata": {},
   "outputs": [],
   "source": [
    "# download the images as tifs, iterating through the bands 3 at a time for RGBs\n",
    "\n",
    "i = 0\n",
    "\n",
    "while i + 2 < 64:\n",
    "    band_1 = f\"A{str(i).zfill(2)}\"\n",
    "    band_2 = f\"A{str(i + 1).zfill(2)}\"\n",
    "    band_3 = f\"A{str(i + 2).zfill(2)}\"\n",
    "\n",
    "    curr_img = image2024.select([band_1, band_2, band_3])\n",
    "\n",
    "    region_trimmed = point.buffer(500).bounds()  # meters bound box\n",
    "    scale = 1  # meters per pixel\n",
    "\n",
    "    filename = f\"data/wi/500m_resolution/tifs/{band_1}_{band_2}_{band_3}.tif\"\n",
    "    print(f\"Exporting {filename}...\")\n",
    "\n",
    "    try:\n",
    "        geemap.ee_export_image(\n",
    "            curr_img,\n",
    "            filename=filename,\n",
    "            region=region_trimmed,\n",
    "            scale=scale,\n",
    "            verbose=True,\n",
    "        )\n",
    "\n",
    "    except Exception as e:\n",
    "        print(f\"Failed to export {filename}: {e}\")\n",
    "\n",
    "    i += 1"
   ]
  },
  {
   "cell_type": "code",
   "execution_count": null,
   "id": "0db86a66",
   "metadata": {},
   "outputs": [],
   "source": [
    "# convert tifs to pngs\n",
    "\n",
    "import rasterio\n",
    "from rasterio.plot import reshape_as_image\n",
    "import numpy as np\n",
    "\n",
    "input_dir = Path(\"data/wi/500m_resolution/tifs\")\n",
    "output_dir = Path(\"data/wi/500m_resolution/pngs\")\n",
    "\n",
    "for tif_path in input_dir.glob(\"*.tif\"):\n",
    "    png_path = output_dir / tif_path.with_suffix(\".png\").name\n",
    "    try:\n",
    "        with rasterio.open(tif_path) as src:\n",
    "            arr = src.read()  # shape: (bands, height, width)\n",
    "\n",
    "            # Handle 1–3+ band cases\n",
    "            if arr.shape[0] == 1:\n",
    "                # single band: normalize to 0–255 grayscale\n",
    "                band = arr[0]\n",
    "                band = 255 * (band - band.min()) / (band.max() - band.min())\n",
    "                rgb = np.stack([band] * 3, axis=-1)\n",
    "            else:\n",
    "                # take first 3 bands, normalize each\n",
    "                arr = arr[:3]\n",
    "                arr = np.clip(arr, np.nanpercentile(arr, 2), np.nanpercentile(arr, 98))\n",
    "                arr = 255 * (arr - arr.min()) / (arr.max() - arr.min())\n",
    "                rgb = reshape_as_image(arr)\n",
    "\n",
    "            rgb = np.nan_to_num(rgb).astype(np.uint8)\n",
    "            Image.fromarray(rgb).save(png_path)\n",
    "            print(f\"{tif_path.name} → {png_path.name}\")\n",
    "\n",
    "    except Exception as e:\n",
    "        print(f\"!!! Failed on {tif_path.name}: {e}\")"
   ]
  },
  {
   "cell_type": "code",
   "execution_count": null,
   "id": "b950f943",
   "metadata": {},
   "outputs": [],
   "source": [
    "# Convert pngs to gif\n",
    "\n",
    "# Path to your PNGs\n",
    "png_dir = Path(\"data/wi/500m_resolution/pngs\")\n",
    "png_files = sorted(png_dir.glob(\"*.png\"))\n",
    "\n",
    "# Load images\n",
    "images = [Image.open(p) for p in png_files]\n",
    "\n",
    "# Save as GIF\n",
    "gif_path = Path(\"data/wi\") / \"animation_500m_i1.gif\"\n",
    "images[0].save(\n",
    "    gif_path,\n",
    "    save_all=True,\n",
    "    append_images=images[1:],\n",
    "    duration=100,  # milliseconds per frame\n",
    "    loop=0,  # infinite loop\n",
    ")\n",
    "\n",
    "print(f\"Saved gif: {gif_path}\")"
   ]
  }
 ],
 "metadata": {
  "kernelspec": {
   "display_name": "cdp",
   "language": "python",
   "name": "python3"
  },
  "language_info": {
   "codemirror_mode": {
    "name": "ipython",
    "version": 3
   },
   "file_extension": ".py",
   "mimetype": "text/x-python",
   "name": "python",
   "nbconvert_exporter": "python",
   "pygments_lexer": "ipython3",
   "version": "3.12.11"
  }
 },
 "nbformat": 4,
 "nbformat_minor": 5
}
