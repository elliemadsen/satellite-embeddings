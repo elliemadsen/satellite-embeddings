{
 "cells": [
  {
   "cell_type": "code",
   "execution_count": null,
   "id": "433e9ed7",
   "metadata": {},
   "outputs": [],
   "source": [
    "import ee\n",
    "import geemap"
   ]
  },
  {
   "cell_type": "code",
   "execution_count": 16,
   "id": "af74b697",
   "metadata": {},
   "outputs": [
    {
     "data": {
      "text/html": [
       "\n",
       "            <style>\n",
       "                .geemap-dark {\n",
       "                    --jp-widgets-color: white;\n",
       "                    --jp-widgets-label-color: white;\n",
       "                    --jp-ui-font-color1: white;\n",
       "                    --jp-layout-color2: #454545;\n",
       "                    background-color: #383838;\n",
       "                }\n",
       "\n",
       "                .geemap-dark .jupyter-button {\n",
       "                    --jp-layout-color3: #383838;\n",
       "                }\n",
       "\n",
       "                .geemap-colab {\n",
       "                    background-color: var(--colab-primary-surface-color, white);\n",
       "                }\n",
       "\n",
       "                .geemap-colab .jupyter-button {\n",
       "                    --jp-layout-color3: var(--colab-primary-surface-color, white);\n",
       "                }\n",
       "            </style>\n",
       "            "
      ],
      "text/plain": [
       "<IPython.core.display.HTML object>"
      ]
     },
     "metadata": {},
     "output_type": "display_data"
    },
    {
     "data": {
      "application/vnd.jupyter.widget-view+json": {
       "model_id": "e07d48391c79434b9986e4431fecb3ed",
       "version_major": 2,
       "version_minor": 0
      },
      "text/plain": [
       "Map(center=[31.6008201894651, 34.80251148191422], controls=(WidgetControl(options=['position', 'transparent_bg…"
      ]
     },
     "execution_count": 16,
     "metadata": {},
     "output_type": "execute_result"
    }
   ],
   "source": [
    "# authenticate and initialize Earth Engine\n",
    "\n",
    "ee.Authenticate()\n",
    "ee.Initialize(project=\"gsapp-map\")\n",
    "\n",
    "dataset = ee.ImageCollection(\"GOOGLE/SATELLITE_EMBEDDING/V1/ANNUAL\")\n",
    "\n",
    "center = [34.80251148191422, 31.6008201894651]\n",
    "point = ee.Geometry.Point(center[0], center[1])\n",
    "# image2024 = dataset.filterDate(\"2024-01-01\", \"2025-01-01\").filterBounds(region).mosaic()\n",
    "\n",
    "region = point.buffer(500000)\n",
    "\n",
    "image2017 = dataset.filterDate(\"2017-01-01\", \"2018-01-01\").filterBounds(region).mosaic()\n",
    "image2022 = dataset.filterDate(\"2022-01-01\", \"2023-01-01\").filterBounds(region).mosaic()\n",
    "image2024 = dataset.filterDate(\"2024-01-01\", \"2025-01-01\").filterBounds(region).mosaic()\n",
    "\n",
    "# Visualize three axes of the embedding space as an RGB.\n",
    "visParams = {min: -0.3, max: 0.3, \"bands\": [\"A44\", \"A18\", \"A50\"]}\n",
    "\n",
    "Map = geemap.Map(center=center, zoom=4)\n",
    "Map.add_basemap(\"TopPlusOpen.Grey\")\n",
    "\n",
    "Map.addLayer(image2017, visParams, \"2017 embeddings\")\n",
    "Map.addLayer(image2024, visParams, \"2024 embeddings\")\n",
    "\n",
    "Map.centerObject(point, zoom=6)\n",
    "Map.setOptions(\"SATELLITE\")\n",
    "Map"
   ]
  },
  {
   "cell_type": "code",
   "execution_count": 19,
   "id": "6c1696ed",
   "metadata": {},
   "outputs": [
    {
     "data": {
      "text/html": [
       "\n",
       "            <style>\n",
       "                .geemap-dark {\n",
       "                    --jp-widgets-color: white;\n",
       "                    --jp-widgets-label-color: white;\n",
       "                    --jp-ui-font-color1: white;\n",
       "                    --jp-layout-color2: #454545;\n",
       "                    background-color: #383838;\n",
       "                }\n",
       "\n",
       "                .geemap-dark .jupyter-button {\n",
       "                    --jp-layout-color3: #383838;\n",
       "                }\n",
       "\n",
       "                .geemap-colab {\n",
       "                    background-color: var(--colab-primary-surface-color, white);\n",
       "                }\n",
       "\n",
       "                .geemap-colab .jupyter-button {\n",
       "                    --jp-layout-color3: var(--colab-primary-surface-color, white);\n",
       "                }\n",
       "            </style>\n",
       "            "
      ],
      "text/plain": [
       "<IPython.core.display.HTML object>"
      ]
     },
     "metadata": {},
     "output_type": "display_data"
    },
    {
     "data": {
      "application/vnd.jupyter.widget-view+json": {
       "model_id": "82138e9357a94cb48d49d42d69b992b3",
       "version_major": 2,
       "version_minor": 0
      },
      "text/plain": [
       "Map(center=[34.80251148191422, 31.6008201894651], controls=(WidgetControl(options=['position', 'transparent_bg…"
      ]
     },
     "execution_count": 19,
     "metadata": {},
     "output_type": "execute_result"
    }
   ],
   "source": [
    "# This section is unrelated to the rest of the notebook\n",
    "# Visualize three axes of the embedding space as an RGB (for export or display in Colab)\n",
    "\n",
    "# Sample points for training\n",
    "n_samples = 1000\n",
    "training2024 = image2024.sample(\n",
    "    region=region, scale=10, numPixels=n_samples, seed=100, geometries=True\n",
    ")\n",
    "training2017 = image2017.sample(\n",
    "    region=region, scale=10, numPixels=n_samples, seed=100, geometries=True\n",
    ")\n",
    "\n",
    "\n",
    "# Function to train a model for desired number of clusters\n",
    "def get_clusters(training, n_clusters):\n",
    "    clusterer = ee.Clusterer.wekaKMeans(n_clusters).train(training)\n",
    "    clustered = image2024.cluster(clusterer)\n",
    "    return clustered\n",
    "\n",
    "\n",
    "cluster10_2024 = get_clusters(training2024, 10)\n",
    "cluster20_2024 = get_clusters(training2024, 20)\n",
    "clusters40_2024 = get_clusters(training2024, 40)\n",
    "\n",
    "cluster10_2017 = get_clusters(training2017, 10)\n",
    "cluster20_2017 = get_clusters(training2017, 20)\n",
    "clusters40_2017 = get_clusters(training2017, 40)\n",
    "\n",
    "Map = geemap.Map(center=center, zoom=6)\n",
    "Map.add_basemap(\"TopPlusOpen.Grey\")\n",
    "\n",
    "# Add clusters\n",
    "Map.addLayer(cluster10_2024.clip(region).randomVisualizer(), {}, \"2024: 10 Clusters\")\n",
    "Map.addLayer(cluster20_2024.clip(region).randomVisualizer(), {}, \"2024: 20 Clusters\")\n",
    "Map.addLayer(clusters40_2024.clip(region).randomVisualizer(), {}, \"2024: 40 Clusters\")\n",
    "\n",
    "Map.addLayer(cluster10_2017.clip(region).randomVisualizer(), {}, \"2017: 10 Clusters\")\n",
    "Map.addLayer(cluster20_2017.clip(region).randomVisualizer(), {}, \"2017: 20 Clusters\")\n",
    "Map.addLayer(clusters40_2017.clip(region).randomVisualizer(), {}, \"2017: 40 Clusters\")\n",
    "\n",
    "Map"
   ]
  },
  {
   "cell_type": "code",
   "execution_count": 17,
   "id": "b8ef8e58",
   "metadata": {},
   "outputs": [
    {
     "data": {
      "text/html": [
       "\n",
       "            <style>\n",
       "                .geemap-dark {\n",
       "                    --jp-widgets-color: white;\n",
       "                    --jp-widgets-label-color: white;\n",
       "                    --jp-ui-font-color1: white;\n",
       "                    --jp-layout-color2: #454545;\n",
       "                    background-color: #383838;\n",
       "                }\n",
       "\n",
       "                .geemap-dark .jupyter-button {\n",
       "                    --jp-layout-color3: #383838;\n",
       "                }\n",
       "\n",
       "                .geemap-colab {\n",
       "                    background-color: var(--colab-primary-surface-color, white);\n",
       "                }\n",
       "\n",
       "                .geemap-colab .jupyter-button {\n",
       "                    --jp-layout-color3: var(--colab-primary-surface-color, white);\n",
       "                }\n",
       "            </style>\n",
       "            "
      ],
      "text/plain": [
       "<IPython.core.display.HTML object>"
      ]
     },
     "metadata": {},
     "output_type": "display_data"
    },
    {
     "data": {
      "application/vnd.jupyter.widget-view+json": {
       "model_id": "f765dda6ec314a23ad4c51f98d8cda51",
       "version_major": 2,
       "version_minor": 0
      },
      "text/plain": [
       "Map(center=[31.6008201894651, 34.80251148191422], controls=(WidgetControl(options=['position', 'transparent_bg…"
      ]
     },
     "execution_count": 17,
     "metadata": {},
     "output_type": "execute_result"
    }
   ],
   "source": [
    "# Compute per-pixel Euclidean distance between embedding vectors\n",
    "bands = list(\n",
    "    set(image2022.bandNames().getInfo()) & set(image2024.bandNames().getInfo())\n",
    ")\n",
    "diff = image2024.select(bands).subtract(image2022.select(bands))\n",
    "sq = diff.pow(2)\n",
    "sum_sq = sq.reduce(ee.Reducer.sum())\n",
    "euclidean_dist = sum_sq.sqrt().rename(\"euclidean_dist\")\n",
    "\n",
    "Map = geemap.Map(center=center, zoom=6)\n",
    "Map.add_basemap(\"TopPlusOpen.Grey\")\n",
    "\n",
    "# Visualize the Euclidean distance (difference magnitude)\n",
    "Map.addLayer(\n",
    "    euclidean_dist,\n",
    "    {\"min\": 0, \"max\": 1, \"palette\": [\"black\", \"white\"]},\n",
    "    \"Embedding Difference (Euclidean)\",\n",
    ")\n",
    "\n",
    "Map.centerObject(point, zoom=9)\n",
    "Map"
   ]
  }
 ],
 "metadata": {
  "kernelspec": {
   "display_name": "cdp",
   "language": "python",
   "name": "python3"
  },
  "language_info": {
   "codemirror_mode": {
    "name": "ipython",
    "version": 3
   },
   "file_extension": ".py",
   "mimetype": "text/x-python",
   "name": "python",
   "nbconvert_exporter": "python",
   "pygments_lexer": "ipython3",
   "version": "3.12.11"
  }
 },
 "nbformat": 4,
 "nbformat_minor": 5
}
